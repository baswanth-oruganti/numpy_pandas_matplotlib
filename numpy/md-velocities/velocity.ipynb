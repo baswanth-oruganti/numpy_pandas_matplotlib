{
 "cells": [
  {
   "cell_type": "code",
   "execution_count": 1,
   "metadata": {},
   "outputs": [],
   "source": [
    "#!/usr/bin/env python\n",
    "# coding: utf-8"
   ]
  },
  {
   "cell_type": "code",
   "execution_count": 2,
   "metadata": {},
   "outputs": [],
   "source": [
    "import sys\n",
    "import numpy as np\n",
    "import pandas as pd"
   ]
  },
  {
   "cell_type": "markdown",
   "metadata": {},
   "source": [
    "### Read the .xyz file and make atomic symbol as index"
   ]
  },
  {
   "cell_type": "code",
   "execution_count": 3,
   "metadata": {},
   "outputs": [],
   "source": [
    "coor=pd.read_csv(\"1.xyz\",sep=\"\\s+\",skiprows=2,header=None)\n",
    "coor.columns=['Atom label', 'x', 'y', 'z']\n",
    "coor.set_index('Atom label',inplace=True)"
   ]
  },
  {
   "cell_type": "markdown",
   "metadata": {},
   "source": [
    "### Save number of atoms, atomic masses, Boltzmann constant, Temperature and masses; convert everything to atomic units"
   ]
  },
  {
   "cell_type": "code",
   "execution_count": 4,
   "metadata": {},
   "outputs": [],
   "source": [
    "number_of_atoms=len(coor); kb=1; temp_au=300*0.00000316683\n",
    "atomic_mass_amu={'H':1.0078,'C':12.0107,'N':14.0067,'O':15.9990,\n",
    "               'F':18.9984,'P':30.9738,'S':32.0650, 'Cl':35.4530}\n",
    "mass_amu=np.array([atomic_mass_amu[item] for item in coor.index])\n",
    "coor['mass_a.u.']=mass_amu*1822.888"
   ]
  },
  {
   "cell_type": "markdown",
   "metadata": {},
   "source": [
    "### Calculate Gaussian width $\\sigma_i =\\sqrt \\frac{k_bT}{m_i}$  where i is atom index, m is mass of atom in a.u."
   ]
  },
  {
   "cell_type": "code",
   "execution_count": 5,
   "metadata": {},
   "outputs": [],
   "source": [
    "coor['sigma_i']=np.sqrt(kb*temp_au/coor['mass_a.u.'])\n",
    "coor['label']=coor.index.str.lower()\n",
    "coor.to_csv(\"coor.xyz\",sep=\"\\t\",header=None,columns=['x','y','z','label'],\n",
    "            float_format=\"%2.8f\",index=None)"
   ]
  },
  {
   "cell_type": "markdown",
   "metadata": {},
   "source": [
    "### Generate 3N random numbers from a standard normal distribution (mean=0, stdev=1)"
   ]
  },
  {
   "cell_type": "code",
   "execution_count": 6,
   "metadata": {},
   "outputs": [],
   "source": [
    "rand_xyz = np.random.normal(0, 1, size=(number_of_atoms, 3))"
   ]
  },
  {
   "cell_type": "markdown",
   "metadata": {},
   "source": [
    "### Calculate velocities as $ vel(x,y,z) = rand(x,y,z) * \\sigma_i $"
   ]
  },
  {
   "cell_type": "code",
   "execution_count": 7,
   "metadata": {},
   "outputs": [],
   "source": [
    "sigmas=np.array(coor['sigma_i']).reshape(-1,1)\n",
    "vel_xyz=rand_xyz*sigmas\n",
    "vel_df=pd.DataFrame(vel_xyz,index=coor.index,columns=['x','y','z'])\n",
    "vel_df['label']=vel_df.index.str.lower()\n",
    "np.savetxt(\"velocity.txt\", vel_df[['label','x','y','z']], fmt=\"%s\")"
   ]
  },
  {
   "cell_type": "markdown",
   "metadata": {},
   "source": [
    "### Write positions, time step and start time, and velocities to mdlog.1 in TURBOMOLE prescribed format"
   ]
  },
  {
   "cell_type": "code",
   "execution_count": 8,
   "metadata": {},
   "outputs": [],
   "source": [
    "with open(\"velocity.txt\",'a') as vfile:\n",
    "    vfile.write(\"$end\")"
   ]
  },
  {
   "cell_type": "code",
   "execution_count": 9,
   "metadata": {},
   "outputs": [],
   "source": [
    "time_step=41.5\n",
    "time_start=0.0\n",
    "with open(\"mdlog.1\", 'w') as logfile, open('coor.xyz') as coorf, open('velocity.txt') as velf:\n",
    "    logfile.write(\"# AIMD log file\\n\")\n",
    "    logfile.write(\"$log\\n\")\n",
    "    logfile.write(\"$current\\n\")\n",
    "    logfile.write(\"t=   0.0000\\n\")\n",
    "    logfile.write(coorf.read())  # write positions\n",
    "    logfile.write(f'{time_step} \\t {time_start}\\n') # write timestep and starttime in a.u.\n",
    "    logfile.write(velf.read()) # write velocities"
   ]
  },
  {
   "cell_type": "markdown",
   "metadata": {},
   "source": [
    "### Notes: Maxwell-Boltzmann distrbiution of velocities $$\\sqrt{\\frac{m}{2\\pi{k_bT}}} \\exp({\\frac{-mv^2}{2k_bT}})$$ is a Gaussian distrbution with width $$\\sigma^2 =\\frac{k_bT}{m_i}$$ which turns to\n",
    "### $$\\frac{1}{\\sqrt{2\\pi\\sigma^2}} \\exp({\\frac{-v^2}{2\\sigma^2}}) $$"
   ]
  },
  {
   "cell_type": "code",
   "execution_count": null,
   "metadata": {},
   "outputs": [],
   "source": []
  }
 ],
 "metadata": {
  "kernelspec": {
   "display_name": "Python 3",
   "language": "python",
   "name": "python3"
  },
  "language_info": {
   "codemirror_mode": {
    "name": "ipython",
    "version": 3
   },
   "file_extension": ".py",
   "mimetype": "text/x-python",
   "name": "python",
   "nbconvert_exporter": "python",
   "pygments_lexer": "ipython3",
   "version": "3.8.3"
  }
 },
 "nbformat": 4,
 "nbformat_minor": 2
}
